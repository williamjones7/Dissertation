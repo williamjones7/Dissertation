{
 "cells": [
  {
   "cell_type": "code",
   "execution_count": 2,
   "metadata": {},
   "outputs": [],
   "source": [
    "import numpy as np\n",
    "import pandas as pd\n",
    "from functions import *\n",
    "from schemes import *\n",
    "from plot import * \n",
    "from Kepler import *\n",
    "from adaptive import *\n",
    "\n",
    "%matplotlib inline"
   ]
  },
  {
   "cell_type": "code",
   "execution_count": 4,
   "metadata": {},
   "outputs": [],
   "source": [
    "# gravity\n",
    "G = 1\n",
    "\n",
    "m1 = 1 \n",
    "m2 = 1 \n",
    "m3 = 1\n",
    "\n",
    "R = 1\n",
    "\n",
    "# position\n",
    "r1 = np.array([-R,0.0,0.0], dtype=\"float64\")\n",
    "r2 = np.array([0,0.0,0.0], dtype=\"float64\")\n",
    "r3 = np.array([R,0.0,0.0], dtype=\"float64\")\n",
    "\n",
    "px = 0.347111\n",
    "py = 0.532728\n",
    "\n",
    "# velocity \n",
    "v1 = np.array([px,py,0], dtype=\"float64\")\n",
    "v2 = np.array([-2 * px,-2*py,0], dtype=\"float64\")\n",
    "v3 = np.array([px,py,0], dtype=\"float64\")\n",
    "\n",
    "# create initial vectors\n",
    "r0s = np.array([r1,r2,r3])\n",
    "v0s = np.array([v1,v2,v3])\n",
    "masses = np.array([m1, m2, m3])"
   ]
  },
  {
   "cell_type": "code",
   "execution_count": 5,
   "metadata": {},
   "outputs": [],
   "source": [
    "T = 1000\n",
    "hlim = 0.01\n",
    "Elim = 0.01\n",
    "C = 0.2"
   ]
  },
  {
   "cell_type": "code",
   "execution_count": null,
   "metadata": {},
   "outputs": [],
   "source": []
  },
  {
   "attachments": {},
   "cell_type": "markdown",
   "metadata": {},
   "source": [
    "def findR(v0s, E0, masses):\n",
    "    ke = np.sum(KineticEnergy(v0s, masses))\n",
    "    R = (2 * masses[0] + masses[0] * masses[2] + 2 * masses[2]) / (2 * (ke - E0))\n",
    "    return R"
   ]
  },
  {
   "cell_type": "code",
   "execution_count": 7,
   "metadata": {},
   "outputs": [
    {
     "name": "stdout",
     "output_type": "stream",
     "text": [
      "[-2.00000000e-04 -1.78947368e-04 -1.57894737e-04 -1.36842105e-04\n",
      " -1.15789474e-04 -9.47368421e-05 -7.36842105e-05 -5.26315789e-05\n",
      " -3.15789474e-05 -1.05263158e-05  1.05263158e-05  3.15789474e-05\n",
      "  5.26315789e-05  7.36842105e-05  9.47368421e-05  1.15789474e-04\n",
      "  1.36842105e-04  1.57894737e-04  1.78947368e-04  2.00000000e-04] [ 2.00000000e-04  1.78947368e-04  1.57894737e-04  1.36842105e-04\n",
      "  1.15789474e-04  9.47368421e-05  7.36842105e-05  5.26315789e-05\n",
      "  3.15789474e-05  1.05263158e-05 -1.05263158e-05 -3.15789474e-05\n",
      " -5.26315789e-05 -7.36842105e-05 -9.47368421e-05 -1.15789474e-04\n",
      " -1.36842105e-04 -1.57894737e-04 -1.78947368e-04 -2.00000000e-04]\n"
     ]
    }
   ],
   "source": [
    "dm1s = np.linspace(-0.0002,0.0002,20)\n",
    "dm3s = np.flip(np.linspace(-0.0002, 0.0002,20))\n",
    "\n",
    "print(dm1s, dm3s)"
   ]
  },
  {
   "cell_type": "code",
   "execution_count": 8,
   "metadata": {},
   "outputs": [
    {
     "name": "stdout",
     "output_type": "stream",
     "text": [
      "-0.0002 0.0002\n"
     ]
    },
    {
     "ename": "ValueError",
     "evalue": "not enough values to unpack (expected 4, got 3)",
     "output_type": "error",
     "traceback": [
      "\u001b[1;31m---------------------------------------------------------------------------\u001b[0m",
      "\u001b[1;31mValueError\u001b[0m                                Traceback (most recent call last)",
      "\u001b[1;32mc:\\Users\\Will\\Documents\\DISSERTATION\\Code\\Dissertation\\Mass Stability.ipynb Cell 7\u001b[0m in \u001b[0;36m2\n\u001b[0;32m     <a href='vscode-notebook-cell:/c%3A/Users/Will/Documents/DISSERTATION/Code/Dissertation/Mass%20Stability.ipynb#W6sZmlsZQ%3D%3D?line=19'>20</a>\u001b[0m r3hat \u001b[39m=\u001b[39m np\u001b[39m.\u001b[39marray([R,\u001b[39m0.0\u001b[39m,\u001b[39m0.0\u001b[39m], dtype\u001b[39m=\u001b[39m\u001b[39m\"\u001b[39m\u001b[39mfloat64\u001b[39m\u001b[39m\"\u001b[39m)\n\u001b[0;32m     <a href='vscode-notebook-cell:/c%3A/Users/Will/Documents/DISSERTATION/Code/Dissertation/Mass%20Stability.ipynb#W6sZmlsZQ%3D%3D?line=20'>21</a>\u001b[0m r0shat \u001b[39m=\u001b[39m np\u001b[39m.\u001b[39marray([r1hat,r2hat,r3hat])\n\u001b[1;32m---> <a href='vscode-notebook-cell:/c%3A/Users/Will/Documents/DISSERTATION/Code/Dissertation/Mass%20Stability.ipynb#W6sZmlsZQ%3D%3D?line=22'>23</a>\u001b[0m stability, variance, escapet, maxE \u001b[39m=\u001b[39m findStability(T, C, hlim, Elim, r0shat, v0s, G, masseshat)\n\u001b[0;32m     <a href='vscode-notebook-cell:/c%3A/Users/Will/Documents/DISSERTATION/Code/Dissertation/Mass%20Stability.ipynb#W6sZmlsZQ%3D%3D?line=24'>25</a>\u001b[0m variances\u001b[39m.\u001b[39mappend(variance)\n\u001b[0;32m     <a href='vscode-notebook-cell:/c%3A/Users/Will/Documents/DISSERTATION/Code/Dissertation/Mass%20Stability.ipynb#W6sZmlsZQ%3D%3D?line=25'>26</a>\u001b[0m stabilities\u001b[39m.\u001b[39mappend(stability)\n",
      "\u001b[1;31mValueError\u001b[0m: not enough values to unpack (expected 4, got 3)"
     ]
    }
   ],
   "source": [
    "E0 = np.sum(TotalEnergy(r0s, v0s, G, masses))\n",
    "\n",
    "stabilities = []\n",
    "ts = []\n",
    "Es = []\n",
    "variances = []\n",
    "for dm1 in dm1s:\n",
    "    for dm3 in dm3s:\n",
    "        print(dm1, dm3)\n",
    "        m1hat = m1 + dm1\n",
    "        m3hat = m3 + dm3\n",
    "\n",
    "        masseshat = np.array([m1hat, m2, m3hat])\n",
    "\n",
    "        R = findR(v0s, E0, masseshat)\n",
    "        \n",
    "        # position\n",
    "        r1hat = np.array([-R,0.0,0.0], dtype=\"float64\")\n",
    "        r2hat = np.array([0,0.0,0.0], dtype=\"float64\")\n",
    "        r3hat = np.array([R,0.0,0.0], dtype=\"float64\")\n",
    "        r0shat = np.array([r1hat,r2hat,r3hat])\n",
    "\n",
    "        stability, variance, escapet, maxE = findStability(T, C, hlim, Elim, r0shat, v0s, G, masseshat)\n",
    "\n",
    "        variances.append(variance)\n",
    "        stabilities.append(stability)\n",
    "        ts.append(escapet)\n",
    "        Es.append(maxE)\n",
    "\n",
    "stabilities = np.array(stabilities).reshape(len(dm1s), len(dm3s))\n",
    "Es = np.array(stabilities).reshape(len(dm1s), len(dm3s))\n",
    "ts = np.array(ts).reshape(len(dm1s), len(dm3s))\n",
    "variances.append()"
   ]
  },
  {
   "cell_type": "code",
   "execution_count": null,
   "metadata": {},
   "outputs": [
    {
     "ename": "NameError",
     "evalue": "name 'stabilities' is not defined",
     "output_type": "error",
     "traceback": [
      "\u001b[1;31m---------------------------------------------------------------------------\u001b[0m",
      "\u001b[1;31mNameError\u001b[0m                                 Traceback (most recent call last)",
      "\u001b[1;32mc:\\Users\\Will\\Documents\\DISSERTATION\\Code\\Dissertation\\Mass Stability.ipynb Cell 8\u001b[0m in \u001b[0;36m2\n\u001b[0;32m      <a href='vscode-notebook-cell:/c%3A/Users/Will/Documents/DISSERTATION/Code/Dissertation/Mass%20Stability.ipynb#X10sZmlsZQ%3D%3D?line=0'>1</a>\u001b[0m \u001b[39mimport\u001b[39;00m \u001b[39mpandas\u001b[39;00m \u001b[39mas\u001b[39;00m \u001b[39mpd\u001b[39;00m \n\u001b[1;32m----> <a href='vscode-notebook-cell:/c%3A/Users/Will/Documents/DISSERTATION/Code/Dissertation/Mass%20Stability.ipynb#X10sZmlsZQ%3D%3D?line=1'>2</a>\u001b[0m df \u001b[39m=\u001b[39m pd\u001b[39m.\u001b[39mDataFrame(stabilities)\n\u001b[0;32m      <a href='vscode-notebook-cell:/c%3A/Users/Will/Documents/DISSERTATION/Code/Dissertation/Mass%20Stability.ipynb#X10sZmlsZQ%3D%3D?line=2'>3</a>\u001b[0m df\u001b[39m.\u001b[39mto_csv(\u001b[39m\"\u001b[39m\u001b[39mData/Fig8/MassStability.csv\u001b[39m\u001b[39m\"\u001b[39m)\n\u001b[0;32m      <a href='vscode-notebook-cell:/c%3A/Users/Will/Documents/DISSERTATION/Code/Dissertation/Mass%20Stability.ipynb#X10sZmlsZQ%3D%3D?line=4'>5</a>\u001b[0m df \u001b[39m=\u001b[39m pd\u001b[39m.\u001b[39mDataFrame(Es)\n",
      "\u001b[1;31mNameError\u001b[0m: name 'stabilities' is not defined"
     ]
    }
   ],
   "source": [
    "import pandas as pd \n",
    "df = pd.DataFrame(stabilities)\n",
    "df.to_csv(\"Data/Fig8/MassStability.csv\")\n",
    "\n",
    "df = pd.DataFrame(Es)\n",
    "df.to_csv(\"Data/Fig8/MassStability_Energy.csv\")\n",
    "\n",
    "df = pd.DataFrame(ts)\n",
    "df.to_csv(\"Data/Fig8/MassStability_ts.csv\")"
   ]
  },
  {
   "cell_type": "code",
   "execution_count": null,
   "metadata": {},
   "outputs": [
    {
     "data": {
      "image/png": "[encoded data removed]",
      "text/plain": [
       "<Figure size 640x480 with 2 Axes>"
      ]
     },
     "metadata": {},
     "output_type": "display_data"
    }
   ],
   "source": [
    "import seaborn as sns\n",
    "from matplotlib.colors import ListedColormap\n",
    "\n",
    "\n",
    "# Create a figure and axis for the heatmap\n",
    "fig, ax = plt.subplots()\n",
    "\n",
    "cmap = ListedColormap(['orangered','mediumspringgreen','salmon','papayawhip'])\n",
    "# cmap = sns.color_palette('tab10', n_colors=4)\n",
    "\n",
    "# Create the heatmap using Seaborn\n",
    "sns.heatmap(stabilities.T,cmap = cmap,  cbar=True, ax=ax, vmin=0, vmax=3)\n",
    "\n",
    "# Determine the tick positions\n",
    "num_ticks = 5\n",
    "tick_positions = np.linspace(0, stabilities.shape[0] - 1, num_ticks, dtype=int) \n",
    "\n",
    "# Set the tick positions and labels for both x-axis and y-axis\n",
    "ax.set_xticks(tick_positions + 0.5)\n",
    "ax.set_yticks(tick_positions + 0.5)\n",
    "ax.set_xticklabels(np.round(dm1s, 5)[tick_positions])\n",
    "ax.set_yticklabels(np.round(dm3s, 5)[tick_positions])\n",
    "\n",
    "# Set axis labels and title\n",
    "ax.set_xlabel(f'$\\delta v_x$')\n",
    "ax.set_ylabel('$\\delta v_y$')\n",
    "\n",
    "colorbar = ax.collections[0].colorbar\n",
    "colorbar.set_ticks(0.375 * np.array([1, 3, 5, 7]))\n",
    "colorbar.set_ticklabels(['$d > 10$', '$T > {1000}}$', '$h < 0.001$', '$E > 0.01$'])\n",
    "\n",
    "# Show the plot\n",
    "plt.show()\n"
   ]
  }
 ],
 "metadata": {
  "kernelspec": {
   "display_name": "Python 3",
   "language": "python",
   "name": "python3"
  },
  "language_info": {
   "codemirror_mode": {
    "name": "ipython",
    "version": 3
   },
   "file_extension": ".py",
   "mimetype": "text/x-python",
   "name": "python",
   "nbconvert_exporter": "python",
   "pygments_lexer": "ipython3",
   "version": "3.10.11"
  },
  "orig_nbformat": 4
 },
 "nbformat": 4,
 "nbformat_minor": 2
}
