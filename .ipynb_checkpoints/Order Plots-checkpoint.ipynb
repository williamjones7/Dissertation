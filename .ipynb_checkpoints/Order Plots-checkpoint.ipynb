{
 "cells": [
  {
   "cell_type": "code",
   "execution_count": 5,
   "id": "e719597a",
   "metadata": {},
   "outputs": [],
   "source": [
    "import numpy as np\n",
    "from functions import *\n",
    "from schemes import *\n",
    "from plot import * \n",
    "from Kepler import * \n",
    "\n",
    "%matplotlib inline"
   ]
  },
  {
   "cell_type": "code",
   "execution_count": 6,
   "id": "1fb1cb4f",
   "metadata": {},
   "outputs": [],
   "source": [
    "# gravity\n",
    "G = 1\n",
    "\n",
    "# masses\n",
    "m1 = 1\n",
    "m2 = 1 \n",
    "\n",
    "# position\n",
    "r1 = np.array([0,0.0,0.0], dtype=\"float64\")\n",
    "r2 = np.array([1.0,0.0,0.0], dtype=\"float64\")\n",
    "\n",
    "# velocity \n",
    "v1 = np.array([0,0.0,0], dtype=\"float64\")\n",
    "v2 = np.array([0,1.0,0], dtype=\"float64\")\n",
    "\n",
    "# create initial vectors\n",
    "r0s = np.array([r1,r2])\n",
    "v0s = np.array([v1,v2])\n",
    "masses = np.array([m1, m2])"
   ]
  },
  {
   "cell_type": "code",
   "execution_count": 7,
   "id": "0f701ac5",
   "metadata": {},
   "outputs": [],
   "source": [
    "def MaxEnergyError(scheme, h0, T, Nsteps, r0s, v0s, G, masses, title = '', Nrepeats = 5):\n",
    "    # reposition centre of mass to origin with no momentum \n",
    "    rcom, vcom = CentreOfMass(r0s, v0s, masses)\n",
    "    r0s -= rcom\n",
    "    v0s -= vcom\n",
    "\n",
    "    H = np.arange(h0, h0*(Nsteps+1), h0)\n",
    "    errs = []\n",
    "    for h in H:\n",
    "        err = 0\n",
    "        for _ in range(Nrepeats):\n",
    "            t_vals, rs_traj, vs_traj, ke_traj, pe_traj, am_traj, times = run_scheme(scheme, 0, T, h, r0s, v0s, G, masses)\n",
    "            dE,_,_= EnergyError(ke_traj, pe_traj)\n",
    "            dE = max(abs(dE))\n",
    "            err += dE\n",
    "            \n",
    "        errs.append(err/Nrepeats)\n",
    "        \n",
    "    plt.title(f\"Relationship between maximum energy change and step size in {title}\")\n",
    "    plt.xlabel('log Step Size')\n",
    "    plt.ylabel('log Maximum energy difference')\n",
    "\n",
    "    #find line of best fit\n",
    "    a, b = np.polyfit(np.log(H), np.log(errs), 1)\n",
    "\n",
    "    #add points to plot\n",
    "    plt.scatter(np.log(H), np.log(errs))\n",
    "\n",
    "    #add line of best fit to plot\n",
    "    plt.plot(np.log(H), a*np.log(H)+b, color='orange', label = f'Line of best fit, gradient = {a}') \n",
    "\n",
    "    plt.legend()\n",
    "\n",
    "    plt.show()    \n",
    "    \n",
    "def MaxError(scheme, r0s, v0s, T, h, G, masses):\n",
    "    m1 = masses[0]\n",
    "    m2 = masses[1]\n",
    "    mu = G * (m1 + m2) \n",
    "    \n",
    "    # reposition centre of mass to origin with no momentum \n",
    "    rcom, vcom = CentreOfMass(r0s, v0s, masses)\n",
    "    r0sprime = r0s - rcom\n",
    "    v0sprime = v0s - vcom\n",
    "\n",
    "    traj = run_scheme(EulerStep, 0, T, h, r0sprime, v0sprime, G, masses)\n",
    "    \n",
    "    a = SemiMajorAxis(mu, r0s, v0s)\n",
    "    \n",
    "    t_traj = np.array(traj[0]) \n",
    "    rs_traj = traj[1]\n",
    "\n",
    "    kepler_traj = KeplerOrbit(a, e, mu, t_traj)\n",
    "    \n",
    "    errs = kepler_traj - rs_traj[:,1,:]\n",
    "    errs = np.linalg.norm(errs, axis = 1)\n",
    "\n",
    "    return np.max(errs)\n",
    "\n",
    "def Error(scheme, h0, T, Nsteps, r0s, v0s, G, masses, title = '', Nrepeats = 1):\n",
    "    H = np.arange(h0, h0*(Nsteps+1), h0)\n",
    "    errs = []\n",
    "    for h in H:\n",
    "        err = 0\n",
    "        for _ in range(Nrepeats):\n",
    "            # t_vals, rs_traj, vs_traj, ke_traj, pe_traj, am_traj = run_scheme(scheme, 0, T, h, r0s, v0s, G, masses)\n",
    "            dE = MaxError(scheme, r0s, v0s, T, h, G, m1, m2)\n",
    "            # dE = max(abs(dE))\n",
    "            err += dE\n",
    "            \n",
    "        errs.append(err/Nrepeats)\n",
    "        \n",
    "    plt.title(f\"Relationship between Error against step size in {title}\")\n",
    "    plt.xlabel('log Step Size')\n",
    "    plt.ylabel('log Maximum energy difference')\n",
    "\n",
    "    #find line of best fit\n",
    "    a, b = np.polyfit(np.log(H), np.log(errs), 1)\n",
    "\n",
    "    #add points to plot\n",
    "    plt.scatter(np.log(H), np.log(errs))\n",
    "\n",
    "    #add line of best fit to plot\n",
    "    plt.plot(np.log(H), a*np.log(H)+b, color='orange', label = f'Line of best fit, gradient = {a}') \n",
    "\n",
    "    plt.legend()\n",
    "\n",
    "    plt.show()    "
   ]
  },
  {
   "cell_type": "code",
   "execution_count": 8,
   "id": "8af65c32",
   "metadata": {},
   "outputs": [
    {
     "ename": "ValueError",
     "evalue": "too many values to unpack (expected 6)",
     "output_type": "error",
     "traceback": [
      "\u001b[1;31m---------------------------------------------------------------------------\u001b[0m",
      "\u001b[1;31mValueError\u001b[0m                                Traceback (most recent call last)",
      "Input \u001b[1;32mIn [8]\u001b[0m, in \u001b[0;36m<cell line: 1>\u001b[1;34m()\u001b[0m\n\u001b[1;32m----> 1\u001b[0m \u001b[43mMaxEnergyError\u001b[49m\u001b[43m(\u001b[49m\u001b[43mEulerStep\u001b[49m\u001b[43m,\u001b[49m\u001b[43m \u001b[49m\u001b[38;5;241;43m0.01\u001b[39;49m\u001b[43m,\u001b[49m\u001b[43m \u001b[49m\u001b[38;5;241;43m20\u001b[39;49m\u001b[43m,\u001b[49m\u001b[43m \u001b[49m\u001b[38;5;241;43m50\u001b[39;49m\u001b[43m,\u001b[49m\u001b[43m \u001b[49m\u001b[43mr0s\u001b[49m\u001b[43m,\u001b[49m\u001b[43m \u001b[49m\u001b[43mv0s\u001b[49m\u001b[43m,\u001b[49m\u001b[43m \u001b[49m\u001b[43mG\u001b[49m\u001b[43m,\u001b[49m\u001b[43m \u001b[49m\u001b[43mmasses\u001b[49m\u001b[43m,\u001b[49m\u001b[43m \u001b[49m\u001b[38;5;124;43m'\u001b[39;49m\u001b[38;5;124;43mForward Euler\u001b[39;49m\u001b[38;5;124;43m'\u001b[39;49m\u001b[43m)\u001b[49m\n\u001b[0;32m      2\u001b[0m Error(EulerStep, \u001b[38;5;241m0.01\u001b[39m, \u001b[38;5;241m20\u001b[39m, \u001b[38;5;241m50\u001b[39m, r0s, v0s, G, masses, \u001b[38;5;124m'\u001b[39m\u001b[38;5;124mForward Euler\u001b[39m\u001b[38;5;124m'\u001b[39m)\n",
      "Input \u001b[1;32mIn [7]\u001b[0m, in \u001b[0;36mMaxEnergyError\u001b[1;34m(scheme, h0, T, Nsteps, r0s, v0s, G, masses, title, Nrepeats)\u001b[0m\n\u001b[0;32m     10\u001b[0m err \u001b[38;5;241m=\u001b[39m \u001b[38;5;241m0\u001b[39m\n\u001b[0;32m     11\u001b[0m \u001b[38;5;28;01mfor\u001b[39;00m _ \u001b[38;5;129;01min\u001b[39;00m \u001b[38;5;28mrange\u001b[39m(Nrepeats):\n\u001b[1;32m---> 12\u001b[0m     t_vals, rs_traj, vs_traj, ke_traj, pe_traj, am_traj \u001b[38;5;241m=\u001b[39m run_scheme(scheme, \u001b[38;5;241m0\u001b[39m, T, h, r0s, v0s, G, masses)\n\u001b[0;32m     13\u001b[0m     dE,_,_\u001b[38;5;241m=\u001b[39m EnergyError(ke_traj, pe_traj)\n\u001b[0;32m     14\u001b[0m     dE \u001b[38;5;241m=\u001b[39m \u001b[38;5;28mmax\u001b[39m(\u001b[38;5;28mabs\u001b[39m(dE))\n",
      "\u001b[1;31mValueError\u001b[0m: too many values to unpack (expected 6)"
     ]
    }
   ],
   "source": [
    "MaxEnergyError(EulerStep, 0.01, 20, 50, r0s, v0s, G, masses, 'Forward Euler')\n",
    "Error(EulerStep, 0.01, 20, 50, r0s, v0s, G, masses, 'Forward Euler')"
   ]
  },
  {
   "cell_type": "code",
   "execution_count": null,
   "id": "c172ef71",
   "metadata": {},
   "outputs": [],
   "source": [
    "MaxEnergyError(EulerCromerStep, 0.005, 20, 50, r0s, v0s, G, masses, 'Euler Cromer')"
   ]
  },
  {
   "cell_type": "code",
   "execution_count": null,
   "id": "4aa35c09",
   "metadata": {},
   "outputs": [],
   "source": [
    "MaxEnergyError(LeapfrogStep, 0.005, 20, 50, r0s, v0s, G, masses, '2nd order Leapfrog')"
   ]
  },
  {
   "cell_type": "code",
   "execution_count": null,
   "id": "0067ce0b",
   "metadata": {},
   "outputs": [],
   "source": [
    "MaxEnergyError(Leapfrog4Step, 0.005, 20, 50, r0s, v0s, G, masses, 'Fourth order leapfrog')"
   ]
  },
  {
   "cell_type": "code",
   "execution_count": null,
   "id": "d1731207",
   "metadata": {},
   "outputs": [],
   "source": [
    "MaxEnergyError(RK4Step, 0.005, 20, 50, r0s, v0s, G, masses, 'RK4')"
   ]
  },
  {
   "cell_type": "code",
   "execution_count": null,
   "id": "4adab0f3",
   "metadata": {},
   "outputs": [],
   "source": []
  }
 ],
 "metadata": {
  "kernelspec": {
   "display_name": "Python 3 (ipykernel)",
   "language": "python",
   "name": "python3"
  },
  "language_info": {
   "codemirror_mode": {
    "name": "ipython",
    "version": 3
   },
   "file_extension": ".py",
   "mimetype": "text/x-python",
   "name": "python",
   "nbconvert_exporter": "python",
   "pygments_lexer": "ipython3",
   "version": "3.9.12"
  }
 },
 "nbformat": 4,
 "nbformat_minor": 5
}
