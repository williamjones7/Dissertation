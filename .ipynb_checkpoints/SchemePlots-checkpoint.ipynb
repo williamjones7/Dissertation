{
 "cells": [
  {
   "cell_type": "code",
   "execution_count": 1,
   "id": "2320ad18",
   "metadata": {},
   "outputs": [],
   "source": [
    "import numpy as np\n",
    "import pandas as pd\n",
    "from functions import *\n",
    "from schemes import *\n",
    "from plot import * \n",
    "from Kepler import *\n",
    "\n",
    "%matplotlib inline"
   ]
  },
  {
   "cell_type": "code",
   "execution_count": 2,
   "id": "15586dc7",
   "metadata": {},
   "outputs": [],
   "source": [
    "# gravity\n",
    "G = 1\n",
    "\n",
    "# mass ratio & eccentricity \n",
    "q = 1.0 # q = m2 / m1\n",
    "e = 0.6\n",
    "\n",
    "m1 = 1 # central mass\n",
    "m2 = q # orbiting mass\n",
    "mu = G * (m1 + m2) \n",
    "\n",
    "# position\n",
    "r1 = np.array([0,0.0,0.0], dtype=\"float64\")\n",
    "r2 = np.array([1,0.0,0.0], dtype=\"float64\")\n",
    "\n",
    "# velocity \n",
    "v1 = np.array([0,0.0,0], dtype=\"float64\")\n",
    "v2 = np.array([0,np.sqrt((1 + q)*(1 + e)),0], dtype=\"float64\")\n",
    "\n",
    "# create initial vectors\n",
    "r0s = np.array([r1,r2])\n",
    "v0s = np.array([v1,v2])\n",
    "masses = np.array([m1, m2])\n"
   ]
  },
  {
   "cell_type": "code",
   "execution_count": 3,
   "id": "c510f392",
   "metadata": {},
   "outputs": [],
   "source": [
    "T = 10\n",
    "h = 0.01"
   ]
  },
  {
   "cell_type": "code",
   "execution_count": 7,
   "id": "aabae81c",
   "metadata": {},
   "outputs": [],
   "source": [
    "def SemiMajorAxis(mu, r0s, v0s):\n",
    "    r = r0s[1, :]\n",
    "    v = v0s[1, :]\n",
    "    R = np.linalg.norm(r2)\n",
    "    a = mu * R / (2 * mu - R * (v[0] ** 2 + v[1] ** 2))\n",
    "    return a\n",
    "\n",
    "def AbsoluteError(scheme, r0s, v0s, T, h, G, m1, m2):\n",
    "    mu = G * (m1 + m2) \n",
    "    \n",
    "    # reposition centre of mass to origin with no momentum \n",
    "    rcom, vcom = CentreOfMass(r0s, v0s, masses)\n",
    "    r0sprime = r0s - rcom\n",
    "    v0sprime = v0s - vcom\n",
    "\n",
    "    traj = run_scheme(scheme, 0, T, h, r0sprime, v0sprime, G, masses)\n",
    "    \n",
    "    a = SemiMajorAxis(mu, r0s, v0s)\n",
    "    \n",
    "    t_traj = np.array(traj[0]) \n",
    "    rs_traj = traj[1]\n",
    "\n",
    "    kepler_traj = KeplerOrbit(a, e, mu, t_traj)\n",
    "    \n",
    "    errs = kepler_traj - rs_traj[:,1,:]\n",
    "    errs = np.linalg.norm(errs, axis = 1)\n",
    "\n",
    "    return errs, traj, kepler_traj"
   ]
  },
  {
   "cell_type": "code",
   "execution_count": 8,
   "id": "05dbd02e",
   "metadata": {},
   "outputs": [],
   "source": [
    "schemes = [EulerStep, EulerCromerStep, LeapfrogStep, RK4Step, ForestRuthStep, PEFRLStep]"
   ]
  },
  {
   "cell_type": "code",
   "execution_count": 9,
   "id": "9ad55fd8",
   "metadata": {},
   "outputs": [
    {
     "name": "stdout",
     "output_type": "stream",
     "text": [
      "a\n"
     ]
    },
    {
     "ename": "NameError",
     "evalue": "name 'np' is not defined",
     "output_type": "error",
     "traceback": [
      "\u001b[1;31m---------------------------------------------------------------------------\u001b[0m",
      "\u001b[1;31mNameError\u001b[0m                                 Traceback (most recent call last)",
      "Input \u001b[1;32mIn [9]\u001b[0m, in \u001b[0;36m<cell line: 2>\u001b[1;34m()\u001b[0m\n\u001b[0;32m      1\u001b[0m plots \u001b[38;5;241m=\u001b[39m []\n\u001b[0;32m      2\u001b[0m \u001b[38;5;28;01mfor\u001b[39;00m scheme \u001b[38;5;129;01min\u001b[39;00m schemes: \n\u001b[1;32m----> 3\u001b[0m     plots\u001b[38;5;241m.\u001b[39mappend(\u001b[43mAbsoluteError\u001b[49m\u001b[43m(\u001b[49m\u001b[43mscheme\u001b[49m\u001b[43m,\u001b[49m\u001b[43m \u001b[49m\u001b[43mr0s\u001b[49m\u001b[43m,\u001b[49m\u001b[43m \u001b[49m\u001b[43mv0s\u001b[49m\u001b[43m,\u001b[49m\u001b[43m \u001b[49m\u001b[43mT\u001b[49m\u001b[43m,\u001b[49m\u001b[43m \u001b[49m\u001b[43mh\u001b[49m\u001b[43m,\u001b[49m\u001b[43m \u001b[49m\u001b[43mG\u001b[49m\u001b[43m,\u001b[49m\u001b[43m \u001b[49m\u001b[43mm1\u001b[49m\u001b[43m,\u001b[49m\u001b[43m \u001b[49m\u001b[43mm2\u001b[49m\u001b[43m)\u001b[49m)\n",
      "Input \u001b[1;32mIn [7]\u001b[0m, in \u001b[0;36mAbsoluteError\u001b[1;34m(scheme, r0s, v0s, T, h, G, m1, m2)\u001b[0m\n\u001b[0;32m     21\u001b[0m t_traj \u001b[38;5;241m=\u001b[39m np\u001b[38;5;241m.\u001b[39marray(traj[\u001b[38;5;241m0\u001b[39m]) \n\u001b[0;32m     22\u001b[0m rs_traj \u001b[38;5;241m=\u001b[39m traj[\u001b[38;5;241m1\u001b[39m]\n\u001b[1;32m---> 24\u001b[0m kepler_traj \u001b[38;5;241m=\u001b[39m \u001b[43mKeplerOrbit\u001b[49m\u001b[43m(\u001b[49m\u001b[43ma\u001b[49m\u001b[43m,\u001b[49m\u001b[43m \u001b[49m\u001b[43me\u001b[49m\u001b[43m,\u001b[49m\u001b[43m \u001b[49m\u001b[43mmu\u001b[49m\u001b[43m,\u001b[49m\u001b[43m \u001b[49m\u001b[43mt_traj\u001b[49m\u001b[43m)\u001b[49m\n\u001b[0;32m     26\u001b[0m errs \u001b[38;5;241m=\u001b[39m kepler_traj \u001b[38;5;241m-\u001b[39m rs_traj[:,\u001b[38;5;241m1\u001b[39m,:]\n\u001b[0;32m     27\u001b[0m errs \u001b[38;5;241m=\u001b[39m np\u001b[38;5;241m.\u001b[39mlinalg\u001b[38;5;241m.\u001b[39mnorm(errs, axis \u001b[38;5;241m=\u001b[39m \u001b[38;5;241m1\u001b[39m)\n",
      "File \u001b[1;32m~\\Documents\\DISSERTATION\\Code\\Dissertation\\Kepler.py:10\u001b[0m, in \u001b[0;36mKeplerOrbit\u001b[1;34m(a, e, mu, t)\u001b[0m\n\u001b[0;32m      9\u001b[0m \u001b[38;5;28;01mdef\u001b[39;00m \u001b[38;5;21mKeplerOrbit\u001b[39m(a, e, mu, t):\n\u001b[1;32m---> 10\u001b[0m     T \u001b[38;5;241m=\u001b[39m \u001b[43mKeplerPeriod\u001b[49m\u001b[43m(\u001b[49m\u001b[43ma\u001b[49m\u001b[43m,\u001b[49m\u001b[43m \u001b[49m\u001b[43mmu\u001b[49m\u001b[43m)\u001b[49m\n\u001b[0;32m     11\u001b[0m     M \u001b[38;5;241m=\u001b[39m \u001b[38;5;241m2\u001b[39m \u001b[38;5;241m*\u001b[39m np\u001b[38;5;241m.\u001b[39mpi \u001b[38;5;241m*\u001b[39m t \u001b[38;5;241m/\u001b[39m T\n\u001b[0;32m     12\u001b[0m     E \u001b[38;5;241m=\u001b[39m SolveKepler(e, M)\n",
      "File \u001b[1;32m~\\Documents\\DISSERTATION\\Code\\Dissertation\\Kepler.py:27\u001b[0m, in \u001b[0;36mKeplerPeriod\u001b[1;34m(a, mu)\u001b[0m\n\u001b[1;32m---> 27\u001b[0m \u001b[38;5;28;01mdef\u001b[39;00m \u001b[38;5;21mKeplerPeriod\u001b[39m(a, mu): \u001b[38;5;28;01mreturn\u001b[39;00m \u001b[38;5;241m2\u001b[39m \u001b[38;5;241m*\u001b[39m \u001b[43mnp\u001b[49m\u001b[38;5;241m.\u001b[39mpi \u001b[38;5;241m*\u001b[39m np\u001b[38;5;241m.\u001b[39msqrt(a\u001b[38;5;241m*\u001b[39m\u001b[38;5;241m*\u001b[39m\u001b[38;5;241m3\u001b[39m \u001b[38;5;241m/\u001b[39m mu)\n",
      "\u001b[1;31mNameError\u001b[0m: name 'np' is not defined"
     ]
    }
   ],
   "source": [
    "plots = []\n",
    "for scheme in schemes: \n",
    "    plots.append(AbsoluteError(scheme, r0s, v0s, T, h, G, m1, m2))"
   ]
  }
 ],
 "metadata": {
  "kernelspec": {
   "display_name": "Python 3 (ipykernel)",
   "language": "python",
   "name": "python3"
  },
  "language_info": {
   "codemirror_mode": {
    "name": "ipython",
    "version": 3
   },
   "file_extension": ".py",
   "mimetype": "text/x-python",
   "name": "python",
   "nbconvert_exporter": "python",
   "pygments_lexer": "ipython3",
   "version": "3.9.12"
  }
 },
 "nbformat": 4,
 "nbformat_minor": 5
}
