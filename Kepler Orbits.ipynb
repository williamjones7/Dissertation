{
  "cells": [
    {
      "cell_type": "code",
      "execution_count": 1,
      "id": "a1d730c3",
      "metadata": {
        "id": "a1d730c3",
        "outputId": "8aade52c-3dbb-4210-8d5b-bb685109d543",
        "colab": {
          "base_uri": "https://localhost:8080/",
          "height": 373
        }
      },
      "outputs": [
        {
          "output_type": "error",
          "ename": "ModuleNotFoundError",
          "evalue": "ignored",
          "traceback": [
            "\u001b[0;31m---------------------------------------------------------------------------\u001b[0m",
            "\u001b[0;31mModuleNotFoundError\u001b[0m                       Traceback (most recent call last)",
            "\u001b[0;32m<ipython-input-1-024892361c24>\u001b[0m in \u001b[0;36m<cell line: 3>\u001b[0;34m()\u001b[0m\n\u001b[1;32m      1\u001b[0m \u001b[0;32mimport\u001b[0m \u001b[0mnumpy\u001b[0m \u001b[0;32mas\u001b[0m \u001b[0mnp\u001b[0m\u001b[0;34m\u001b[0m\u001b[0;34m\u001b[0m\u001b[0m\n\u001b[1;32m      2\u001b[0m \u001b[0;32mimport\u001b[0m \u001b[0mpandas\u001b[0m \u001b[0;32mas\u001b[0m \u001b[0mpd\u001b[0m\u001b[0;34m\u001b[0m\u001b[0;34m\u001b[0m\u001b[0m\n\u001b[0;32m----> 3\u001b[0;31m \u001b[0;32mfrom\u001b[0m \u001b[0mfunctions\u001b[0m \u001b[0;32mimport\u001b[0m \u001b[0;34m*\u001b[0m\u001b[0;34m\u001b[0m\u001b[0;34m\u001b[0m\u001b[0m\n\u001b[0m\u001b[1;32m      4\u001b[0m \u001b[0;32mfrom\u001b[0m \u001b[0mschemes\u001b[0m \u001b[0;32mimport\u001b[0m \u001b[0;34m*\u001b[0m\u001b[0;34m\u001b[0m\u001b[0;34m\u001b[0m\u001b[0m\n\u001b[1;32m      5\u001b[0m \u001b[0;32mfrom\u001b[0m \u001b[0mplot\u001b[0m \u001b[0;32mimport\u001b[0m \u001b[0;34m*\u001b[0m\u001b[0;34m\u001b[0m\u001b[0;34m\u001b[0m\u001b[0m\n",
            "\u001b[0;31mModuleNotFoundError\u001b[0m: No module named 'functions'",
            "",
            "\u001b[0;31m---------------------------------------------------------------------------\u001b[0;32m\nNOTE: If your import is failing due to a missing package, you can\nmanually install dependencies using either !pip or !apt.\n\nTo view examples of installing some common dependencies, click the\n\"Open Examples\" button below.\n\u001b[0;31m---------------------------------------------------------------------------\u001b[0m\n"
          ],
          "errorDetails": {
            "actions": [
              {
                "action": "open_url",
                "actionText": "Open Examples",
                "url": "/notebooks/snippets/importing_libraries.ipynb"
              }
            ]
          }
        }
      ],
      "source": [
        "import numpy as np\n",
        "import pandas as pd\n",
        "from functions import *\n",
        "from schemes import *\n",
        "from plot import *\n",
        "\n",
        "%matplotlib inline"
      ]
    },
    {
      "cell_type": "markdown",
      "id": "20026ebf",
      "metadata": {
        "id": "20026ebf"
      },
      "source": [
        "#### Ground Truth"
      ]
    },
    {
      "cell_type": "code",
      "execution_count": null,
      "id": "ff5473a8",
      "metadata": {
        "id": "ff5473a8"
      },
      "outputs": [],
      "source": [
        "def SolveKepler(e, M):\n",
        "    E0 = M\n",
        "    while True:\n",
        "        E1 = E0 - (E0 - e * np.sin(E0) - M) / (1 - e * np.cos(E0))\n",
        "        if np.linalg.norm(E1 - E0) < 1e-8:\n",
        "            return E1\n",
        "        E0 = E1\n",
        "\n",
        "def KeplerOrbit(a, e, mu, t):\n",
        "    T = KeplerPeriod(a, mu)\n",
        "    M = 2 * np.pi * t / T\n",
        "    E = SolveKepler(e, M)\n",
        "    theta = 2 * np.arctan2(np.sqrt(1 + e) * np.sin(E/2), np.sqrt(1 - e) * np.cos(E/2))\n",
        "    r = a * (1 - e**2) / (1 + e * np.cos(theta))\n",
        "    x = r * np.cos(theta)\n",
        "    y = r * np.sin(theta)\n",
        "    z = np.zeros_like(x)\n",
        "    return np.column_stack((x, y, z))\n",
        "\n",
        "def SemiMajorAxis(mu, r0s, v0s):\n",
        "    r = r0s[1, :]\n",
        "    v = v0s[1, :]\n",
        "    R = np.linalg.norm(r2)\n",
        "    a = mu * R / (2 * mu - R * (v[0] ** 2 + v[1] ** 2))\n",
        "    return a\n",
        "\n",
        "def KeplerPeriod(a, mu): return 2 * np.pi * np.sqrt(a**3 / mu)"
      ]
    },
    {
      "cell_type": "code",
      "execution_count": null,
      "id": "68dedb9a",
      "metadata": {
        "scrolled": true,
        "id": "68dedb9a"
      },
      "outputs": [],
      "source": [
        "# gravity\n",
        "G = 1\n",
        "\n",
        "# mass ratio & eccentricity\n",
        "q = 1.0 # q = m2 / m1\n",
        "e = 0.8\n",
        "\n",
        "m1 = 1 # central mass\n",
        "m2 = q # orbiting mass\n",
        "mu = G * (m1 + m2)\n",
        "\n",
        "# position\n",
        "r1 = np.array([0,0.0,0.0], dtype=\"float64\")\n",
        "r2 = np.array([1,0.0,0.0], dtype=\"float64\")\n",
        "\n",
        "# velocity\n",
        "v1 = np.array([0,0.0,0], dtype=\"float64\")\n",
        "v2 = np.array([0,np.sqrt((1 + q)*(1 + e)),0], dtype=\"float64\")\n",
        "\n",
        "# create initial vectors\n",
        "r0s = np.array([r1,r2])\n",
        "v0s = np.array([v1,v2])\n",
        "masses = np.array([m1, m2])"
      ]
    },
    {
      "cell_type": "code",
      "execution_count": null,
      "id": "aa12992d",
      "metadata": {
        "id": "aa12992d"
      },
      "outputs": [],
      "source": [
        "a = SemiMajorAxis(mu, r0s, v0s)\n",
        "\n",
        "# Generate time values spanning one orbital period\n",
        "num_points = 1000\n",
        "T = 2 * np.pi * np.sqrt(a**3 / mu)\n",
        "t_values = np.linspace(0, T, num_points)\n",
        "\n",
        "# Calculate the position of the orbit at each time\n",
        "kepler_traj = KeplerOrbit(a, e, mu, t_values)"
      ]
    },
    {
      "cell_type": "code",
      "execution_count": null,
      "id": "8844710c",
      "metadata": {
        "id": "8844710c"
      },
      "outputs": [],
      "source": [
        "# reposition centre of mass to origin with no momentum\n",
        "rcom, vcom = CentreOfMass(r0s, v0s, masses)\n",
        "r0s -= rcom\n",
        "v0s -= vcom\n",
        "\n",
        "traj = run_scheme(EulerStep, 0, 50, 0.01, r0s, v0s, G, masses)"
      ]
    },
    {
      "cell_type": "code",
      "execution_count": null,
      "id": "d20496e5",
      "metadata": {
        "id": "d20496e5"
      },
      "outputs": [],
      "source": [
        "a = SemiMajorAxis(mu, r0s, v0s)\n",
        "T = KeplerPeriod(a, mu)\n",
        "t_traj = np.array(traj[0])\n",
        "\n",
        "# Calculate the position of the orbit at each time\n",
        "kepler_traj = KeplerOrbit(a, e, mu, t_traj)"
      ]
    },
    {
      "cell_type": "code",
      "execution_count": null,
      "id": "2b3b29fd",
      "metadata": {
        "id": "2b3b29fd"
      },
      "outputs": [],
      "source": [
        "rs_traj = traj[1]\n",
        "err = kepler_traj - rs_traj[:,1,:]\n",
        "errors = np.linalg.norm(err, axis = 1)\n",
        "errors_series = pd.Series(errors)\n",
        "\n",
        "# Specify the window size for the rolling average\n",
        "window_size = 10000\n",
        "\n",
        "# Calculate the rolling average using pandas\n",
        "rolling_average = errors_series.rolling(window=window_size).mean()\n",
        "\n",
        "plt.plot(t_traj, errors)\n",
        "plt.plot(t_traj, rolling_average)"
      ]
    },
    {
      "cell_type": "code",
      "execution_count": null,
      "id": "07aa7ffe",
      "metadata": {
        "id": "07aa7ffe"
      },
      "outputs": [],
      "source": [
        "t_traj, rs_traj, vs_traj, E_traj, am_traj, times = traj\n",
        "N = rs_traj.shape[1] # number of masses in the system\n",
        "\n",
        "plt.style.use('default')\n",
        "\n",
        "# create figure\n",
        "fig = plt.figure(figsize = (10,10), dpi = 300)\n",
        "\n",
        "ax = fig.add_subplot(111,aspect='equal')\n",
        "\n",
        "### ORBITS ###\n",
        "\n",
        "ax.plot(rs_traj[:,1,0], rs_traj[:,1,1], label=f'mass 2', color = 'red') # plot the orbits\n",
        "ax.plot(rs_traj[:,0,0], rs_traj[:,0,1], label=f'mass 1', color = 'blue')\n",
        "ax.scatter(rs_traj[0,1,0],rs_traj[0,1,1], marker=\"o\", facecolors='none', s=50, color ='red') # plot the start positions\n",
        "ax.scatter(rs_traj[-1,1,0],rs_traj[-1,1,1], marker=\"o\",s=50, color = 'red') # plot the final positions of the\n",
        "\n",
        "ax.plot(kepler_traj[:,0], kepler_traj[:,1], label = 'Exact', linestyle = '--', color = 'black')\n",
        "\n",
        "plt.legend()"
      ]
    },
    {
      "cell_type": "code",
      "execution_count": null,
      "id": "e4babcf1",
      "metadata": {
        "id": "e4babcf1"
      },
      "outputs": [],
      "source": [
        "def AbsoluteError(scheme, r0s, v0s, T, h, G, m1, m2):\n",
        "    mu = G * (m1 + m2)\n",
        "\n",
        "    # reposition centre of mass to origin with no momentum\n",
        "    rcom, vcom = CentreOfMass(r0s, v0s, masses)\n",
        "    r0sprime = r0s - rcom\n",
        "    v0sprime = v0s - vcom\n",
        "\n",
        "    traj = run_scheme(EulerStep, 0, 50, 0.01, r0sprime, v0sprime, G, masses)\n",
        "\n",
        "    a = SemiMajorAxis(mu, r0s, v0s)\n",
        "\n",
        "    t_traj = np.array(traj[0])\n",
        "    rs_traj = traj[1]\n",
        "\n",
        "    kepler_traj = KeplerOrbit(a, e, mu, t_traj)\n",
        "\n",
        "    errs = kepler_traj - rs_traj[:,1,:]\n",
        "    errs = np.linalg.norm(errs, axis = 1)\n",
        "\n",
        "    return errs, traj, kepler_traj"
      ]
    },
    {
      "cell_type": "markdown",
      "id": "b201e260",
      "metadata": {
        "id": "b201e260"
      },
      "source": [
        "#### Error"
      ]
    },
    {
      "cell_type": "code",
      "execution_count": null,
      "id": "bb6d1572",
      "metadata": {
        "id": "bb6d1572"
      },
      "outputs": [],
      "source": [
        "# gravity\n",
        "G = 1\n",
        "\n",
        "# mass ratio & eccentricity\n",
        "q = 1.0 # q = m2 / m1\n",
        "e = 0.6\n",
        "\n",
        "m1 = 1 # central mass\n",
        "m2 = q # orbiting mass\n",
        "mu = G * (m1 + m2)\n",
        "\n",
        "# position\n",
        "r1 = np.array([0,0.0,0.0], dtype=\"float64\")\n",
        "r2 = np.array([1,0.0,0.0], dtype=\"float64\")\n",
        "\n",
        "# velocity\n",
        "v1 = np.array([0,0.0,0], dtype=\"float64\")\n",
        "v2 = np.array([0,np.sqrt((1 + q)*(1 + e)),0], dtype=\"float64\")\n",
        "\n",
        "# create initial vectors\n",
        "r0s = np.array([r1,r2])\n",
        "v0s = np.array([v1,v2])\n",
        "masses = np.array([m1, m2])"
      ]
    },
    {
      "cell_type": "code",
      "execution_count": null,
      "id": "4089f4ea",
      "metadata": {
        "id": "4089f4ea"
      },
      "outputs": [],
      "source": [
        "T = 100\n",
        "h = 0.01"
      ]
    },
    {
      "cell_type": "code",
      "execution_count": null,
      "id": "8bf52e8d",
      "metadata": {
        "id": "8bf52e8d"
      },
      "outputs": [],
      "source": [
        "errs, traj, kepler_traj = AbsoluteError(EulerStep, r0s, v0s, T, h, G, m1, m2)\n",
        "rs_traj = traj[1]\n",
        "\n",
        "plt.style.use('default')\n",
        "\n",
        "fig, (ax1, ax2) = plt.subplots(2,1, figsize = (20,20))\n",
        "\n",
        "ax1.set_aspect('equal')\n",
        "### ORBITS ###\n",
        "\n",
        "ax1.plot(rs_traj[:,1,0], rs_traj[:,1,1], label=f'mass 2', color = 'red') # plot the orbits\n",
        "ax1.scatter(rs_traj[:,0,0], rs_traj[:,0,1], label=f'mass 1', color = 'blue')\n",
        "ax1.scatter(rs_traj[0,1,0],rs_traj[0,1,1], marker=\"o\", facecolors='none', s=50, color ='red') # plot the start positions\n",
        "ax1.scatter(rs_traj[-1,1,0],rs_traj[-1,1,1], marker=\"o\",s=50, color = 'red') # plot the final positions of the\n",
        "ax1.plot(kepler_traj[:,0], kepler_traj[:,1], label = 'Exact', linestyle = '--', color = 'black')\n",
        "ax1.legend()\n",
        "\n",
        "ax2.plot(traj[0], errs)"
      ]
    },
    {
      "cell_type": "markdown",
      "id": "c3eec362",
      "metadata": {
        "id": "c3eec362"
      },
      "source": [
        "#### Tests"
      ]
    },
    {
      "cell_type": "code",
      "execution_count": null,
      "id": "f1b11700",
      "metadata": {
        "scrolled": true,
        "id": "f1b11700"
      },
      "outputs": [],
      "source": [
        "# gravity\n",
        "G = 1\n",
        "\n",
        "# mass ratio & eccentricity\n",
        "q = 0.5 # q = m2 / m1\n",
        "e = 0.6\n",
        "\n",
        "m1 = 1 # central mass\n",
        "m2 = q # orbiting mass\n",
        "\n",
        "# position\n",
        "r1 = np.array([0,0.0,0.0], dtype=\"float64\")\n",
        "r2 = np.array([1,0.0,0.0], dtype=\"float64\")\n",
        "\n",
        "# velocity\n",
        "v1 = np.array([0,0.0,0], dtype=\"float64\")\n",
        "v2 = np.array([0,np.sqrt((1 + q)*(1 + e)),0], dtype=\"float64\")\n",
        "\n",
        "# create initial vectors\n",
        "r0s = np.array([r1,r2])\n",
        "v0s = np.array([v1,v2])\n",
        "masses = np.array([m1, m2])\n",
        "\n",
        "T = 20\n",
        "h = 0.01"
      ]
    },
    {
      "cell_type": "code",
      "execution_count": null,
      "id": "b5e84937",
      "metadata": {
        "scrolled": false,
        "id": "b5e84937"
      },
      "outputs": [],
      "source": [
        "### Truth ###\n",
        "true_traj = run_scipy(0, T, h, r0s, v0s, G, masses)\n",
        "# (t_vals, rs_traj, vs_traj, ke_traj, pe_traj, am_traj) = true_traj\n",
        "# rs_traj = Centralise(rs_traj, 0)\n",
        "# true_traj = (t_vals, rs_traj, vs_traj, ke_traj, pe_traj, am_traj)\n",
        "plot2D(true_traj, masses, 'Scipy', COM = False)"
      ]
    },
    {
      "cell_type": "code",
      "execution_count": null,
      "id": "c6b3545e",
      "metadata": {
        "id": "c6b3545e"
      },
      "outputs": [],
      "source": [
        "### Forward Euler ###\n",
        "Euler_traj = run_scheme(EulerStep, 0, 100, 0.01, r0s, v0s, G, masses)\n",
        "plot2D(Euler_traj, masses, 'Explicit Euler', COM = False)"
      ]
    },
    {
      "cell_type": "code",
      "execution_count": null,
      "id": "5cfc259f",
      "metadata": {
        "id": "5cfc259f"
      },
      "outputs": [],
      "source": [
        "### Euler Cromer ###\n",
        "EulerCromer_traj = run_scheme(EulerCromerStep, 0, 100, 0.01, r0s, v0s, G, masses)\n",
        "plot2D(EulerCromer_traj, masses, 'Euler Cromer', COM = False)"
      ]
    },
    {
      "cell_type": "code",
      "execution_count": null,
      "id": "6f4daa0b",
      "metadata": {
        "scrolled": false,
        "id": "6f4daa0b"
      },
      "outputs": [],
      "source": [
        "# ### 2nd Order Leapfrog ###\n",
        "Leapfrog_traj = run_scheme(LeapfrogStep, 0, 50, 0.01, r0s, v0s, G, masses)\n",
        "plot2D(Leapfrog_traj, masses, '2nd Order Leapfrog (velocity Verlet)', COM = False)"
      ]
    },
    {
      "cell_type": "code",
      "execution_count": null,
      "id": "d0f39582",
      "metadata": {
        "scrolled": false,
        "id": "d0f39582"
      },
      "outputs": [],
      "source": [
        "# ### 4th Order Leapfrog ###\n",
        "Leapfrog4_traj = run_scheme(Leapfrog4Step, 0, 50, 0.01, r0s, v0s, G, masses)\n",
        "plot2D(Leapfrog4_traj, masses, '4th Order Leapfrog', COM = False)"
      ]
    },
    {
      "cell_type": "code",
      "execution_count": null,
      "id": "a70268e9",
      "metadata": {
        "scrolled": false,
        "id": "a70268e9"
      },
      "outputs": [],
      "source": [
        "# ### 4th Order Forest-Ruth ###\n",
        "FR_traj = run_scheme(ForestRuthStep, 0, 20, 0.005, r0s, v0s, G, masses)\n",
        "plot2D(FR_traj, masses, '4th Order Forest-Ruth', COM = False)"
      ]
    },
    {
      "cell_type": "code",
      "execution_count": null,
      "id": "c6ca2a08",
      "metadata": {
        "id": "c6ca2a08"
      },
      "outputs": [],
      "source": [
        "# ### 4th Order Forest-Ruth ###\n",
        "PEFRL_traj = run_scheme(PEFRLStep, 0, 100, 0.01, r0s, v0s, G, masses)\n",
        "plot2D(PEFRL_traj, masses, 'Position Extended Forest-Ruth Like (PEFRL) algorithm', COM = False)"
      ]
    },
    {
      "cell_type": "code",
      "execution_count": null,
      "id": "75a3230e",
      "metadata": {
        "scrolled": false,
        "id": "75a3230e"
      },
      "outputs": [],
      "source": [
        "# ### RK4 ###\n",
        "RK4_traj = run_scheme(RK4Step, 0, 200, 0.1, r0s, v0s, G, masses)\n",
        "plot2D(RK4_traj, masses, 'RK4', COM = False)"
      ]
    }
  ],
  "metadata": {
    "kernelspec": {
      "display_name": "Python 3 (ipykernel)",
      "language": "python",
      "name": "python3"
    },
    "language_info": {
      "codemirror_mode": {
        "name": "ipython",
        "version": 3
      },
      "file_extension": ".py",
      "mimetype": "text/x-python",
      "name": "python",
      "nbconvert_exporter": "python",
      "pygments_lexer": "ipython3",
      "version": "3.9.12"
    },
    "colab": {
      "provenance": []
    }
  },
  "nbformat": 4,
  "nbformat_minor": 5
}