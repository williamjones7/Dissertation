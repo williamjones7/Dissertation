{
 "cells": [
  {
   "cell_type": "code",
   "execution_count": 1,
   "metadata": {},
   "outputs": [],
   "source": [
    "import numpy as np\n",
    "import pandas as pd\n",
    "from functions import *\n",
    "from schemes import *\n",
    "from plot import * \n",
    "from Kepler import *\n",
    "from adaptive import *\n",
    "\n",
    "%matplotlib inline"
   ]
  },
  {
   "cell_type": "code",
   "execution_count": 2,
   "metadata": {},
   "outputs": [],
   "source": [
    "def Optimised_acceleration(rs, G, masses):\n",
    "\n",
    "    N = len(rs)\n",
    "\n",
    "    Fs = np.zeros_like(rs).astype('float64') # empty vector of forces \n",
    "\n",
    "    for i in range(N):\n",
    "        for j in range(i+1, N):\n",
    "            rij = rs[j] - rs[i]\n",
    "            rij_mag = np.linalg.norm(rij)\n",
    "            F = (rij) / (rij_mag ** 3)\n",
    "            Fs[i] += F * masses[j]\n",
    "            Fs[j] += - F * masses[i]\n",
    "        \n",
    "    return G * Fs\n",
    "\n",
    "def Optimised_Force(rs, G, masses):\n",
    "    N = len(rs)\n",
    "\n",
    "    Fs = np.zeros_like(rs).astype('float64') # empty vector of forces \n",
    "\n",
    "    for i in range(N):\n",
    "        for j in range(i+1, N):\n",
    "            rij = rs[j] - rs[i]\n",
    "            rij_mag = np.linalg.norm(rij)\n",
    "            F = masses[i] * masses[j] * (rij) / (rij_mag ** 3)\n",
    "            Fs[i] += F\n",
    "            Fs[j] += - F\n",
    "        \n",
    "    return G * Fs"
   ]
  },
  {
   "cell_type": "code",
   "execution_count": 3,
   "metadata": {},
   "outputs": [],
   "source": [
    "def Optimised_FR_Step(r0s, v0s, h, G, masses):\n",
    "    p = + 0.1786178958448091E+00\n",
    "    l = - 0.2123418310626054E+00\n",
    "    c = - 0.6626458266981849E-01\n",
    "\n",
    "    a = (1 - 2 * l)\n",
    "    \n",
    "    r1s = r0s + p * h * v0s\n",
    "    v1s = v0s + a * 0.5 * h * Optimised_acceleration(r1s, G, masses)\n",
    "    r2s = r1s + c * h * v1s\n",
    "    v2s = v1s + l * h * Optimised_acceleration(r2s, G, masses)\n",
    "    r3s = r2s + (1 - 2*(c + p)) * h * v2s\n",
    "    v3s = v2s + l * h * Optimised_acceleration(r3s, G, masses)\n",
    "    r4s = r3s + c * h * v3s\n",
    "    v4s = v3s + a * 0.5 * h * Optimised_acceleration(r4s, G, masses)\n",
    "    r5s = r4s + p * h * v4s\n",
    "    \n",
    "    return r5s, v4s"
   ]
  },
  {
   "cell_type": "code",
   "execution_count": 4,
   "metadata": {},
   "outputs": [],
   "source": [
    "# gravity\n",
    "G = 1\n",
    "\n",
    "m1 = 1 \n",
    "m2 = 1 \n",
    "m3 = 1\n",
    "\n",
    "# position\n",
    "r1 = np.array([0,0.0,0.0], dtype=\"float64\")\n",
    "r2 = np.array([1,0.0,0.0], dtype=\"float64\")\n",
    "r3 = np.array([-1,0.0,0.0], dtype=\"float64\")\n",
    "\n",
    "p1 = 0.347111\n",
    "p2 = 0.532728\n",
    "\n",
    "# velocity \n",
    "v1 = np.array([-2 * p1,-2*p2,0], dtype=\"float64\")\n",
    "v2 = np.array([p1,p2,0], dtype=\"float64\")\n",
    "v3 = np.array([p1,p2,0], dtype=\"float64\")\n",
    "\n",
    "# create initial vectors\n",
    "r0s = np.array([r1,r2,r3])\n",
    "v0s = np.array([v1,v2,v3])\n",
    "masses = np.array([m1, m2, m3])\n",
    "\n",
    "T = 100\n",
    "hlim = 1e-3\n",
    "C = 0.1"
   ]
  },
  {
   "cell_type": "code",
   "execution_count": 5,
   "metadata": {},
   "outputs": [],
   "source": [
    "def solver(scheme, T, C, hlim, r0s, v0s, G, masses, h0 = 0.01, t0 = 0):\n",
    "    \n",
    "    # reposition centre of mass to origin with no momentum \n",
    "    rcom, vcom = CentreOfMass(r0s, v0s, masses)\n",
    "    r0s -= rcom\n",
    "    v0s -= vcom\n",
    "    \n",
    "    # Make a copy of initial values\n",
    "    rs = np.copy(r0s)\n",
    "    vs = np.copy(v0s)\n",
    "    t = t0\n",
    "    h = h0\n",
    "    \n",
    "    # Initialize our saved trajectories to be blank \n",
    "    t_vals = [t0]\n",
    "    rs_traj = [r0s] \n",
    "    vs_traj = [v0s] \n",
    "    # ke_traj = [KineticEnergy(v0s, masses)]\n",
    "    # pe_traj = [PotentialEnergy(r0s, G, masses)]\n",
    "    times = 0 \n",
    "\n",
    "    rs, vs = scheme(rs, vs, h, G, masses) \n",
    "    \n",
    "    # run scheme for requried number of steps \n",
    "    while t <= T:\n",
    "        t1 = time.time()\n",
    "\n",
    "        h = C * findh(rs, vs) # proposed timestep\n",
    "\n",
    "        rs_bar, vs_bar = scheme(rs, vs, h, G, masses)\n",
    "        h_bar = C * findh(rs_bar, vs_bar) # proposed timestep\n",
    "\n",
    "        h_new = (h + h_bar) / 2\n",
    "        \n",
    "        rs, vs = scheme(rs, vs, h_new, G, masses)\n",
    "\n",
    "        times += time.time() - t1\n",
    "\n",
    "        # ke = KineticEnergy(vs, masses)\n",
    "        # pe = PotentialEnergy(rs, G, masses)\n",
    "        \n",
    "        t += h_new\n",
    "\n",
    "        ## append values to trajectories \n",
    "        t_vals = t_vals + [t]\n",
    "        rs_traj = rs_traj + [rs] \n",
    "        vs_traj = vs_traj + [vs]\n",
    "        \n",
    "    # Make trajectories into numpy arrays\n",
    "    rs_traj = np.array(rs_traj)\n",
    "    vs_traj = np.array(vs_traj) \n",
    "    \n",
    "    # reposition centre of mass to origin with no momentum \n",
    "    rs_traj = np.array([rs + rcom for rs in rs_traj])\n",
    "    vs_traj = np.array([vs + vcom for vs in vs_traj])\n",
    "    \n",
    "    return (t_vals, rs_traj, vs_traj, times)# , ke_traj, pe_traj"
   ]
  },
  {
   "cell_type": "code",
   "execution_count": 6,
   "metadata": {},
   "outputs": [],
   "source": [
    "traj = solver(PEFRLStep, T, C, hlim, r0s, v0s, G, masses)"
   ]
  },
  {
   "cell_type": "code",
   "execution_count": 7,
   "metadata": {},
   "outputs": [],
   "source": [
    "traj = solver(Optimised_FR_Step, T, C, hlim, r0s, v0s, G, masses)"
   ]
  },
  {
   "cell_type": "code",
   "execution_count": 8,
   "metadata": {},
   "outputs": [
    {
     "data": {
      "image/png": "[encoded data removed]",
      "text/plain": [
       "<Figure size 700x700 with 1 Axes>"
      ]
     },
     "metadata": {},
     "output_type": "display_data"
    }
   ],
   "source": [
    "t_vals, rs_traj, vs_traj, times = traj\n",
    "PlotOrbits((t_vals, rs_traj, vs_traj, times, 1, 1))"
   ]
  },
  {
   "cell_type": "code",
   "execution_count": 10,
   "metadata": {},
   "outputs": [
    {
     "name": "stdout",
     "output_type": "stream",
     "text": [
      "-1.287144495085\n"
     ]
    }
   ],
   "source": [
    "print(KineticEnergy(vs_traj[0], masses) + PotentialEnergy(rs_traj[0], G, masses))"
   ]
  }
 ],
 "metadata": {
  "kernelspec": {
   "display_name": "Python 3",
   "language": "python",
   "name": "python3"
  },
  "language_info": {
   "codemirror_mode": {
    "name": "ipython",
    "version": 3
   },
   "file_extension": ".py",
   "mimetype": "text/x-python",
   "name": "python",
   "nbconvert_exporter": "python",
   "pygments_lexer": "ipython3",
   "version": "3.11.4"
  },
  "orig_nbformat": 4
 },
 "nbformat": 4,
 "nbformat_minor": 2
}
